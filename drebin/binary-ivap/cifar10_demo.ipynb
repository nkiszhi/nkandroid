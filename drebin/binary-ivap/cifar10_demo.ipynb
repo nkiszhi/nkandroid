{
 "cells": [
  {
   "cell_type": "markdown",
   "metadata": {},
   "source": [
    "# CIFAR-10 demo\n",
    "\n",
    "This notebook demonstrates how to use our IVAP defense against adversarial examples on CIFAR-10. The examples here can be straightforwardly adapted to any other data set. Note that this technique only works for **binary** classification problems, so we are actually testing on the first two classes of the data set (airplanes and automobiles).\n",
    "\n",
    "First we import all necessary modules:"
   ]
  },
  {
   "cell_type": "code",
   "execution_count": 1,
   "metadata": {},
   "outputs": [
    {
     "name": "stderr",
     "output_type": "stream",
     "text": [
      "Using TensorFlow backend.\n"
     ]
    }
   ],
   "source": [
    "import keras\n",
    "import foolbox\n",
    "\n",
    "import numpy as np\n",
    "import matplotlib.pyplot as plt\n",
    "\n",
    "from scipy.integrate import trapz\n",
    "\n",
    "from whitebox import WhiteboxAttack\n",
    "\n",
    "from tqdm import tqdm\n",
    "\n",
    "from ivap import IVAP\n",
    "\n",
    "from VennABERS import getFVal\n",
    "\n",
    "from keras.datasets import cifar10\n",
    "from keras.models import Sequential\n",
    "from keras.layers import Dense, Dropout, Flatten\n",
    "from keras.layers import Conv2D, MaxPooling2D, Activation"
   ]
  },
  {
   "cell_type": "markdown",
   "metadata": {},
   "source": [
    "We then set global parameters such as the batch size and number of training epochs:"
   ]
  },
  {
   "cell_type": "code",
   "execution_count": 2,
   "metadata": {},
   "outputs": [],
   "source": [
    "BATCH_SIZE = 128\n",
    "EPOCHS = 50"
   ]
  },
  {
   "cell_type": "markdown",
   "metadata": {},
   "source": [
    "Define a couple of auxiliary methods for data normalization and reporting of results:"
   ]
  },
  {
   "cell_type": "code",
   "execution_count": 3,
   "metadata": {},
   "outputs": [],
   "source": [
    "def normalize(arr):\n",
    "    min_val, max_val = arr.min(), arr.max()\n",
    "    arr -= min_val\n",
    "    arr /= max_val - min_val\n",
    "    return arr\n",
    "\n",
    "def report(threshold, metrics):\n",
    "    print('IVAP @ {}:'.format(threshold))\n",
    "    print('\\tACC: {}'.format(metrics.acc))\n",
    "    print('\\tTPR: {}'.format(metrics.tpr))\n",
    "    print('\\tFPR: {}'.format(metrics.fpr))\n",
    "    print('\\tTRR: {}'.format(metrics.trr))\n",
    "    print('\\tFRR: {}'.format(metrics.frr))\n",
    "    print('\\tREJ: {}'.format(metrics.rej))"
   ]
  },
  {
   "cell_type": "markdown",
   "metadata": {},
   "source": [
    "The `normalize` method will normalize all input values so they lie in the interval $[0,1]$."
   ]
  },
  {
   "cell_type": "markdown",
   "metadata": {},
   "source": [
    "## Training the model\n",
    "\n",
    "We now train a standard Keras CNN for classification. First we load the data set and select only the first two classes (zeroes and ones):"
   ]
  },
  {
   "cell_type": "code",
   "execution_count": 4,
   "metadata": {},
   "outputs": [],
   "source": [
    "# the data, split between train and test sets\n",
    "(x_train, y_train), (x_test, y_test) = cifar10.load_data()\n",
    "\n",
    "# filter dataset so we only retain the zeroes and ones classes\n",
    "idx_train = np.logical_or(y_train == 0, y_train == 1)[:, 0]\n",
    "idx_test = np.logical_or(y_test == 0, y_test == 1)[:, 0]\n",
    "\n",
    "x_train, y_train = x_train[idx_train], y_train[idx_train]\n",
    "x_test, y_test = x_test[idx_test], y_test[idx_test]\n",
    "\n",
    "# convert class vectors to binary class matrices\n",
    "y_train = keras.utils.to_categorical(y_train, 2)\n",
    "y_test = keras.utils.to_categorical(y_test, 2)"
   ]
  },
  {
   "cell_type": "markdown",
   "metadata": {},
   "source": [
    "The data sets are then normalized and further split into proper training, proper testing, calibration and validation as illustrated in the paper:"
   ]
  },
  {
   "cell_type": "code",
   "execution_count": 5,
   "metadata": {},
   "outputs": [
    {
     "name": "stdout",
     "output_type": "stream",
     "text": [
      "Training samples: (8000, 32, 32, 3)\n",
      "Calibration samples: (2000, 32, 32, 3)\n",
      "Test samples: (2000, 32, 32, 3)\n",
      "Validation samples: (400, 32, 32, 3)\n"
     ]
    }
   ],
   "source": [
    "# normalize the data set\n",
    "x_train = normalize(x_train.astype(np.float64))\n",
    "x_test = normalize(x_test.astype(np.float64))\n",
    "\n",
    "# splits for proper training, proper testing, calibration and validation sets\n",
    "idx = int(.8*x_train.shape[0])\n",
    "x_proper_train, y_proper_train = x_train[:idx], y_train[:idx]\n",
    "x_calib, y_calib = x_train[idx:], y_train[idx:]\n",
    "\n",
    "idx = int(.8*x_test.shape[0])\n",
    "x_proper_test, y_proper_test = x_test[:idx], y_test[:idx]\n",
    "x_valid, y_valid = x_test[idx:], y_test[idx:]\n",
    "\n",
    "print('Training samples: {}'.format(x_proper_train.shape))\n",
    "print('Calibration samples: {}'.format(x_calib.shape))\n",
    "print('Test samples: {}'.format(x_test.shape))\n",
    "print('Validation samples: {}'.format(x_valid.shape))"
   ]
  },
  {
   "cell_type": "markdown",
   "metadata": {},
   "source": [
    "We are now ready to construct and train the model, which happens via completely standard methods."
   ]
  },
  {
   "cell_type": "code",
   "execution_count": 6,
   "metadata": {},
   "outputs": [
    {
     "name": "stdout",
     "output_type": "stream",
     "text": [
      "Train on 8000 samples, validate on 400 samples\n",
      "Epoch 1/50\n",
      "8000/8000 [==============================] - 2s 265us/step - loss: 0.4973 - acc: 0.7466 - val_loss: 0.3609 - val_acc: 0.8200\n",
      "Epoch 2/50\n",
      "8000/8000 [==============================] - 1s 76us/step - loss: 0.3393 - acc: 0.8509 - val_loss: 0.2869 - val_acc: 0.8775\n",
      "Epoch 3/50\n",
      "8000/8000 [==============================] - 1s 74us/step - loss: 0.2774 - acc: 0.8852 - val_loss: 0.2685 - val_acc: 0.8975\n",
      "Epoch 4/50\n",
      "8000/8000 [==============================] - 1s 77us/step - loss: 0.2224 - acc: 0.9089 - val_loss: 0.1954 - val_acc: 0.9325\n",
      "Epoch 5/50\n",
      "8000/8000 [==============================] - 1s 75us/step - loss: 0.1921 - acc: 0.9246 - val_loss: 0.1964 - val_acc: 0.9175\n",
      "Epoch 6/50\n",
      "8000/8000 [==============================] - 1s 77us/step - loss: 0.1559 - acc: 0.9382 - val_loss: 0.1624 - val_acc: 0.9325\n",
      "Epoch 7/50\n",
      "8000/8000 [==============================] - 1s 76us/step - loss: 0.1339 - acc: 0.9493 - val_loss: 0.1518 - val_acc: 0.9425\n",
      "Epoch 8/50\n",
      "8000/8000 [==============================] - 1s 75us/step - loss: 0.1219 - acc: 0.9545 - val_loss: 0.1647 - val_acc: 0.9300\n",
      "Epoch 9/50\n",
      "8000/8000 [==============================] - 1s 77us/step - loss: 0.1051 - acc: 0.9584 - val_loss: 0.1500 - val_acc: 0.9425\n",
      "Epoch 10/50\n",
      "8000/8000 [==============================] - 1s 77us/step - loss: 0.0930 - acc: 0.9649 - val_loss: 0.1593 - val_acc: 0.9400\n",
      "Epoch 11/50\n",
      "8000/8000 [==============================] - 1s 76us/step - loss: 0.0931 - acc: 0.9657 - val_loss: 0.1280 - val_acc: 0.9425\n",
      "Epoch 12/50\n",
      "8000/8000 [==============================] - 1s 75us/step - loss: 0.0828 - acc: 0.9675 - val_loss: 0.1504 - val_acc: 0.9350\n",
      "Epoch 13/50\n",
      "8000/8000 [==============================] - 1s 77us/step - loss: 0.0733 - acc: 0.9729 - val_loss: 0.1576 - val_acc: 0.9250\n",
      "Epoch 14/50\n",
      "8000/8000 [==============================] - 1s 74us/step - loss: 0.0719 - acc: 0.9739 - val_loss: 0.1225 - val_acc: 0.9500\n",
      "Epoch 15/50\n",
      "8000/8000 [==============================] - 1s 75us/step - loss: 0.0613 - acc: 0.9751 - val_loss: 0.1691 - val_acc: 0.9425\n",
      "Epoch 16/50\n",
      "8000/8000 [==============================] - 1s 77us/step - loss: 0.0524 - acc: 0.9805 - val_loss: 0.1229 - val_acc: 0.9625\n",
      "Epoch 17/50\n",
      "8000/8000 [==============================] - 1s 77us/step - loss: 0.0480 - acc: 0.9813 - val_loss: 0.1635 - val_acc: 0.9600\n",
      "Epoch 18/50\n",
      "8000/8000 [==============================] - 1s 76us/step - loss: 0.0424 - acc: 0.9839 - val_loss: 0.1218 - val_acc: 0.9625\n",
      "Epoch 19/50\n",
      "8000/8000 [==============================] - 1s 77us/step - loss: 0.0425 - acc: 0.9859 - val_loss: 0.1455 - val_acc: 0.9475\n",
      "Epoch 20/50\n",
      "8000/8000 [==============================] - 1s 75us/step - loss: 0.0328 - acc: 0.9884 - val_loss: 0.1364 - val_acc: 0.9550\n",
      "Epoch 21/50\n",
      "8000/8000 [==============================] - 1s 75us/step - loss: 0.0334 - acc: 0.9881 - val_loss: 0.1168 - val_acc: 0.9625\n",
      "Epoch 22/50\n",
      "8000/8000 [==============================] - 1s 75us/step - loss: 0.0292 - acc: 0.9903 - val_loss: 0.1659 - val_acc: 0.9475\n",
      "Epoch 23/50\n",
      "8000/8000 [==============================] - 1s 76us/step - loss: 0.0304 - acc: 0.9879 - val_loss: 0.1441 - val_acc: 0.9525\n",
      "Epoch 24/50\n",
      "8000/8000 [==============================] - 1s 77us/step - loss: 0.0285 - acc: 0.9886 - val_loss: 0.1117 - val_acc: 0.9650\n",
      "Epoch 25/50\n",
      "8000/8000 [==============================] - 1s 76us/step - loss: 0.0261 - acc: 0.9908 - val_loss: 0.1027 - val_acc: 0.9575\n",
      "Epoch 26/50\n",
      "8000/8000 [==============================] - 1s 75us/step - loss: 0.0275 - acc: 0.9909 - val_loss: 0.1995 - val_acc: 0.9450\n",
      "Epoch 27/50\n",
      "8000/8000 [==============================] - 1s 75us/step - loss: 0.0222 - acc: 0.9919 - val_loss: 0.1449 - val_acc: 0.9600\n",
      "Epoch 28/50\n",
      "8000/8000 [==============================] - 1s 76us/step - loss: 0.0240 - acc: 0.9918 - val_loss: 0.1419 - val_acc: 0.9550\n",
      "Epoch 29/50\n",
      "8000/8000 [==============================] - 1s 74us/step - loss: 0.0202 - acc: 0.9925 - val_loss: 0.1455 - val_acc: 0.9575\n",
      "Epoch 30/50\n",
      "8000/8000 [==============================] - 1s 78us/step - loss: 0.0190 - acc: 0.9933 - val_loss: 0.1777 - val_acc: 0.9450\n",
      "Epoch 31/50\n",
      "8000/8000 [==============================] - 1s 75us/step - loss: 0.0285 - acc: 0.9895 - val_loss: 0.1447 - val_acc: 0.9550\n",
      "Epoch 32/50\n",
      "8000/8000 [==============================] - 1s 76us/step - loss: 0.0275 - acc: 0.9901 - val_loss: 0.1583 - val_acc: 0.9450\n",
      "Epoch 33/50\n",
      "8000/8000 [==============================] - 1s 76us/step - loss: 0.0150 - acc: 0.9946 - val_loss: 0.1733 - val_acc: 0.9500\n",
      "Epoch 34/50\n",
      "8000/8000 [==============================] - 1s 75us/step - loss: 0.0190 - acc: 0.9934 - val_loss: 0.2518 - val_acc: 0.9375\n",
      "Epoch 35/50\n",
      "8000/8000 [==============================] - 1s 76us/step - loss: 0.0132 - acc: 0.9942 - val_loss: 0.1872 - val_acc: 0.9550\n",
      "Epoch 36/50\n",
      "8000/8000 [==============================] - 1s 75us/step - loss: 0.0187 - acc: 0.9929 - val_loss: 0.1557 - val_acc: 0.9625\n",
      "Epoch 37/50\n",
      "8000/8000 [==============================] - 1s 75us/step - loss: 0.0175 - acc: 0.9939 - val_loss: 0.1720 - val_acc: 0.9450\n",
      "Epoch 38/50\n",
      "8000/8000 [==============================] - 1s 76us/step - loss: 0.0166 - acc: 0.9944 - val_loss: 0.2017 - val_acc: 0.9575\n",
      "Epoch 39/50\n",
      "8000/8000 [==============================] - 1s 75us/step - loss: 0.0130 - acc: 0.9952 - val_loss: 0.1797 - val_acc: 0.9525\n",
      "Epoch 40/50\n",
      "8000/8000 [==============================] - 1s 77us/step - loss: 0.0141 - acc: 0.9951 - val_loss: 0.1971 - val_acc: 0.9600\n",
      "Epoch 41/50\n",
      "8000/8000 [==============================] - 1s 75us/step - loss: 0.0138 - acc: 0.9950 - val_loss: 0.1597 - val_acc: 0.9625\n",
      "Epoch 42/50\n",
      "8000/8000 [==============================] - 1s 76us/step - loss: 0.0115 - acc: 0.9966 - val_loss: 0.2590 - val_acc: 0.9575\n",
      "Epoch 43/50\n",
      "8000/8000 [==============================] - 1s 76us/step - loss: 0.0186 - acc: 0.9925 - val_loss: 0.1826 - val_acc: 0.9650\n",
      "Epoch 44/50\n",
      "8000/8000 [==============================] - 1s 76us/step - loss: 0.0138 - acc: 0.9956 - val_loss: 0.1942 - val_acc: 0.9550\n",
      "Epoch 45/50\n",
      "8000/8000 [==============================] - 1s 76us/step - loss: 0.0104 - acc: 0.9960 - val_loss: 0.1233 - val_acc: 0.9725\n",
      "Epoch 46/50\n",
      "8000/8000 [==============================] - 1s 76us/step - loss: 0.0114 - acc: 0.9959 - val_loss: 0.1948 - val_acc: 0.9575\n",
      "Epoch 47/50\n",
      "8000/8000 [==============================] - 1s 76us/step - loss: 0.0114 - acc: 0.9959 - val_loss: 0.2325 - val_acc: 0.9475\n",
      "Epoch 48/50\n",
      "8000/8000 [==============================] - 1s 75us/step - loss: 0.0244 - acc: 0.9922 - val_loss: 0.1496 - val_acc: 0.9675\n",
      "Epoch 49/50\n",
      "8000/8000 [==============================] - 1s 77us/step - loss: 0.0101 - acc: 0.9964 - val_loss: 0.2205 - val_acc: 0.9575\n",
      "Epoch 50/50\n",
      "8000/8000 [==============================] - 1s 76us/step - loss: 0.0141 - acc: 0.9956 - val_loss: 0.2258 - val_acc: 0.9625\n"
     ]
    },
    {
     "data": {
      "text/plain": [
       "<keras.callbacks.History at 0x7f786bfa35f8>"
      ]
     },
     "execution_count": 6,
     "metadata": {},
     "output_type": "execute_result"
    }
   ],
   "source": [
    "# train the model\n",
    "input_shape = (32, 32, 3)\n",
    "model = Sequential()\n",
    "model.add(Conv2D(32, kernel_size=(3, 3),\n",
    "                activation='relu',\n",
    "                input_shape=input_shape))\n",
    "model.add(Conv2D(32, (3, 3), activation='relu'))\n",
    "model.add(MaxPooling2D(pool_size=(2, 2)))\n",
    "model.add(Dropout(.25))\n",
    "model.add(Conv2D(64, (3, 3), activation='relu'))\n",
    "model.add(Conv2D(64, (3, 3), activation='relu'))\n",
    "model.add(MaxPooling2D(pool_size=(2, 2)))\n",
    "model.add(Dropout(.25))\n",
    "model.add(Flatten())\n",
    "model.add(Dense(512, activation='relu'))\n",
    "model.add(Dropout(.5))\n",
    "model.add(Dense(2))\n",
    "model.add(Activation('softmax'))\n",
    "\n",
    "model.compile(loss=keras.losses.categorical_crossentropy,\n",
    "                optimizer=keras.optimizers.Adam(),\n",
    "                metrics=['accuracy'])\n",
    "model.fit(x_proper_train, y_proper_train,\n",
    "            batch_size=BATCH_SIZE,\n",
    "            epochs=EPOCHS,\n",
    "            verbose=1,\n",
    "            validation_data=(x_valid, y_valid))"
   ]
  },
  {
   "cell_type": "markdown",
   "metadata": {},
   "source": [
    "Note that we have separated the softmax layer into two Keras layers: a `Dense` one and an `Activation`. This is important as the IVAP requires the raw scores and this construction allows us to easily access the pre-softmax values. **If you feed the softmax probabilities to the IVAP instead of the raw scores, performance will be significantly reduced!**\n",
    "\n",
    "When the model has finished training, we can test it on clean data:"
   ]
  },
  {
   "cell_type": "code",
   "execution_count": 7,
   "metadata": {},
   "outputs": [
    {
     "name": "stdout",
     "output_type": "stream",
     "text": [
      "1600/1600 [==============================] - 0s 33us/step\n",
      "Proper test accuracy: 0.969375\n"
     ]
    }
   ],
   "source": [
    "acc = model.evaluate(x_proper_test, y_proper_test, batch_size=BATCH_SIZE)[1]\n",
    "print('Proper test accuracy: {}'.format(acc))"
   ]
  },
  {
   "cell_type": "markdown",
   "metadata": {},
   "source": [
    "## Fitting the IVAP\n",
    "\n",
    "With the trained model in hand, we can calibrate the IVAP and plot its ROC curve. There are many ways in which one can choose how to tune the IVAP threshold; here, we optimize the threshold on the validation set so that we achieve the highest true rejection rate for the lowest false rejection rate:"
   ]
  },
  {
   "cell_type": "code",
   "execution_count": 8,
   "metadata": {},
   "outputs": [
    {
     "name": "stderr",
     "output_type": "stream",
     "text": [
      "  0%|          | 0/1000 [00:00<?, ?it/s]/home/jpeck/vovk/ivap.py:92: RuntimeWarning: invalid value encountered in true_divide\n",
      "  acc = (tps + tns) / ((1 - rej) * x_test.shape[0])\n",
      "/home/jpeck/vovk/ivap.py:93: RuntimeWarning: invalid value encountered in long_scalars\n",
      "  tpr = tps / (tps + fns)\n",
      "/home/jpeck/vovk/ivap.py:94: RuntimeWarning: invalid value encountered in long_scalars\n",
      "  fpr = fps / (fps + tns)\n",
      "100%|██████████| 1000/1000 [00:22<00:00, 46.12it/s]"
     ]
    },
    {
     "name": "stdout",
     "output_type": "stream",
     "text": [
      "Optimal threshold: 0.007007007007007007\n"
     ]
    },
    {
     "name": "stderr",
     "output_type": "stream",
     "text": [
      "\n"
     ]
    }
   ],
   "source": [
    "betas = np.linspace(0, 1, 1000)\n",
    "points = []\n",
    "ivap = IVAP(model, 0., x_calib, y_calib)\n",
    "y_opt = -np.inf\n",
    "y_val = 0.\n",
    "threshold = 0.\n",
    "for beta in tqdm(betas):\n",
    "    ivap.beta = beta\n",
    "    metrics = ivap.evaluate(x_valid, y_valid)\n",
    "    points.append((metrics.frr, metrics.trr))\n",
    "    \n",
    "    y = metrics.trr - metrics.frr\n",
    "    if y > y_opt:\n",
    "        y_opt = y\n",
    "        threshold = beta\n",
    "        y_val = metrics.frr\n",
    "points = np.array(sorted(points, key=lambda p: p[0]))\n",
    "print('Optimal threshold: {}'.format(threshold))"
   ]
  },
  {
   "cell_type": "code",
   "execution_count": 9,
   "metadata": {},
   "outputs": [
    {
     "data": {
      "image/png": "[encoded data removed]",
      "text/plain": [
       "<Figure size 432x288 with 1 Axes>"
      ]
     },
     "metadata": {
      "needs_background": "light"
     },
     "output_type": "display_data"
    }
   ],
   "source": [
    "auc = trapz(points[:, 1], points[:, 0])\n",
    "\n",
    "plt.title('AUC: {}'.format(auc))\n",
    "plt.plot(points[:, 0], points[:, 1], color='blue', label='ROC')\n",
    "plt.plot([0, 1], [0, 1], color='orange', label='chance')\n",
    "plt.axvline(x=y_val, label='threshold', color='black', ls='dotted')\n",
    "plt.xlabel('FRR')\n",
    "plt.ylabel('TRR')\n",
    "plt.legend()\n",
    "plt.show()"
   ]
  },
  {
   "cell_type": "markdown",
   "metadata": {},
   "source": [
    "The optimal threshold can then be used for production:"
   ]
  },
  {
   "cell_type": "code",
   "execution_count": 10,
   "metadata": {},
   "outputs": [
    {
     "name": "stdout",
     "output_type": "stream",
     "text": [
      "IVAP @ 0.007007007007007007:\n",
      "\tACC: 1.0\n",
      "\tTPR: 1.0\n",
      "\tFPR: 0.0\n",
      "\tTRR: 1.0\n",
      "\tFRR: 0.44627554383651946\n",
      "\tREJ: 0.475\n"
     ]
    }
   ],
   "source": [
    "ivap.beta = threshold\n",
    "metrics = ivap.evaluate(x_proper_test, y_proper_test)\n",
    "report(threshold, metrics)"
   ]
  },
  {
   "cell_type": "markdown",
   "metadata": {},
   "source": [
    "These results are to be interpreted as follows. The accuracy (ACC), true positive rate (TPR) and false positive rate (FPR) are computed over the set of predictions that the IVAP accepts. Specifically, they mean the following:\n",
    "\n",
    "* ACC: the fraction of correct predictions that the IVAP accepted. Here, we see that of the entire proper test set, all samples that had correct predictions were also accepted by the IVAP.\n",
    "* TPR: the fraction of ones that were correctly predicted as such and accepted by the IVAP.\n",
    "* FPR: the fraction of zeroes that were incorrectly labelled as ones and accepted by the IVAP.\n",
    "\n",
    "The true rejection rate (TRR), false rejection rate (FRR) and percentage of rejection (REJ) were computed over the entire set of predictions. In more detail:\n",
    "\n",
    "* TRR: the fraction of incorrect predictions that were rejected by the IVAP.\n",
    "* FRR: the fraction of correct predictions that were rejected by the IVAP.\n",
    "* REJ: the total fraction of samples rejected by the IVAP.\n",
    "\n",
    "Thus, we see that the IVAP rejects 47.5% of the predictions made by the underlying CNN. Of the remaining 52.5% of predictions that are accepted, all of them are correctly labelled (100% accuracy with TPR = 1 and FPR = 0). The IVAP has a TRR of 100%, meaning it rejects all predictions that should be rejected (i.e., the incorrect ones). It also has a FRR of 44.63%, however, meaning 44.63% of correct predictions are still rejected.\n",
    "\n",
    "At first glance, the IVAP does not make that much of a difference on this particular data set since the model already achieves over 90% accuracy by itself. Rather, its strength lies in situations where the model is not perfect: in such a setting, the IVAP can be used to filter out a number of predictions that are unreliable. This reduces the fraction of erroneous predictions made by the model at the cost of flagging some predictions for manual inspection (perhaps incorrectly). As a rather extreme example, the IVAP can take a model with, say, 85% accuracy and increase its accuracy to 100% by flagging all erroneous predictions. In practice, of course, this will mean the IVAP inevitably flags some correct predictions as well, but we can try to minimize this number by choosing an appropriate threshold.\n",
    "\n",
    "We will demonstrate the usefulness of the IVAP in the next section, where we test it against adversarial examples."
   ]
  },
  {
   "cell_type": "markdown",
   "metadata": {},
   "source": [
    "## Generating adversarial examples"
   ]
  },
  {
   "cell_type": "markdown",
   "metadata": {},
   "source": [
    "We subject the IVAP to two scenarios here:\n",
    "\n",
    "1. Black-box adversarials. These are adversarials generated for the underlying CNN using existing techniques and then tested on the IVAP.\n",
    "2. White-box adversarials. Here, we employ our custom white-box attack (for the $\\ell_\\infty$ norm) to test the robustness of the IVAP."
   ]
  },
  {
   "cell_type": "markdown",
   "metadata": {},
   "source": [
    "### Black-box adversarials"
   ]
  },
  {
   "cell_type": "markdown",
   "metadata": {},
   "source": [
    "The Foolbox library allows us to generate adversarial examples for both the underlying model as well as the IVAP:"
   ]
  },
  {
   "cell_type": "code",
   "execution_count": 11,
   "metadata": {},
   "outputs": [
    {
     "name": "stderr",
     "output_type": "stream",
     "text": [
      " 51%|█████     | 815/1600 [00:15<00:15, 52.32it/s]/home/jpeck/.local/lib/python3.5/site-packages/foolbox/attacks/base.py:148: UserWarning: DeepFoolAttack did not find an adversarial, maybe the model or the criterion is not supported by this attack.\n",
      "  ' attack.'.format(self.name()))\n",
      "100%|██████████| 1600/1600 [00:31<00:00, 51.10it/s]\n"
     ]
    }
   ],
   "source": [
    "x_advs, y_advs = [], []\n",
    "y_preds = model.predict(x_proper_test, batch_size=BATCH_SIZE)\n",
    "attack = foolbox.attacks.DeepFoolAttack()\n",
    "foolbox_model = foolbox.models.KerasModel(model, (0, 1))\n",
    "for i, (x, y) in enumerate(zip(tqdm(x_proper_test), y_preds)):\n",
    "    try:\n",
    "        adv = foolbox.adversarial.Adversarial(\n",
    "                foolbox_model,\n",
    "                foolbox.criteria.Misclassification(),\n",
    "                x,\n",
    "                y[:2].argmax(),\n",
    "                foolbox.distances.Linfinity)\n",
    "        current_result = attack(adv)\n",
    "        if current_result is not None:\n",
    "            x_advs.append(current_result)\n",
    "            y_advs.append(y)\n",
    "    except ValueError:\n",
    "        pass\n",
    "x_advs = np.array(x_advs)\n",
    "y_advs = np.array(y_advs)"
   ]
  },
  {
   "cell_type": "markdown",
   "metadata": {},
   "source": [
    "The IVAP performance on these adversarials can then be evaluated and compared to standard model accuracy:"
   ]
  },
  {
   "cell_type": "code",
   "execution_count": 12,
   "metadata": {},
   "outputs": [
    {
     "name": "stdout",
     "output_type": "stream",
     "text": [
      "1598/1598 [==============================] - 0s 67us/step\n",
      "Model: 0.025031289111389236\n",
      "IVAP @ 0.007007007007007007:\n",
      "\tACC: nan\n",
      "\tTPR: nan\n",
      "\tFPR: nan\n",
      "\tTRR: 1.0\n",
      "\tFRR: 1.0\n",
      "\tREJ: 1.0\n"
     ]
    }
   ],
   "source": [
    "metrics = ivap.evaluate(x_advs, y_advs)\n",
    "acc = model.evaluate(x_advs, y_advs)[1]\n",
    "print('Model: {}'.format(acc))\n",
    "report(ivap.beta, metrics)"
   ]
  },
  {
   "cell_type": "markdown",
   "metadata": {},
   "source": [
    "In this case, model accuracy is reduced to the level of random guessing. However, the IVAP is capable of recognizing that the model is unreliable on these samples and flags all of its predictions on the adversarials as suspicious. That is, it rejects 100% of model predictions on our data set of adversarials.\n",
    "\n",
    "It is interesting to compare the histograms of probabilities given by the IVAP on clean and adversarial data. Specifically, we plot histograms of the differences $p_1 - p_0$ for each test and adversarial sample:"
   ]
  },
  {
   "cell_type": "code",
   "execution_count": 13,
   "metadata": {},
   "outputs": [
    {
     "data": {
      "text/plain": [
       "Text(0,0.5,'frequency')"
      ]
     },
     "execution_count": 13,
     "metadata": {},
     "output_type": "execute_result"
    },
    {
     "data": {
      "image/png": "[encoded data removed]",
      "text/plain": [
       "<Figure size 432x288 with 1 Axes>"
      ]
     },
     "metadata": {
      "needs_background": "light"
     },
     "output_type": "display_data"
    }
   ],
   "source": [
    "clean_logits = ivap._score(x_proper_test)\n",
    "adv_logits = ivap._score(x_advs)\n",
    "\n",
    "clean_p0s, clean_p1s = getFVal(ivap.F0, ivap.F1, ivap.ptsUnique, clean_logits[:, 1])\n",
    "adv_p0s, adv_p1s = getFVal(ivap.F0, ivap.F1, ivap.ptsUnique, adv_logits[:, 1])\n",
    "\n",
    "cleans = clean_p1s - clean_p0s\n",
    "advs = adv_p1s - adv_p0s\n",
    "\n",
    "plt.hist(cleans, label='clean', bins=50)\n",
    "plt.hist(advs, label='adversarial', bins=50)\n",
    "plt.axvline(x=ivap.beta, label='threshold', color='black', ls=':')\n",
    "plt.legend()\n",
    "plt.xlabel('p1 - p0')\n",
    "plt.ylabel('frequency')"
   ]
  },
  {
   "cell_type": "markdown",
   "metadata": {},
   "source": [
    "As we can see, there is a \"sweet spot\" marked by the tuned threshold which separates the vast majority of clean samples from the adversarial examples. Based on this plot, we can conclude that the current threshold is \"optimal\" in the sense that we cannot move it in any direction without either rejecting more clean samples or accepting more adversarial examples."
   ]
  },
  {
   "cell_type": "markdown",
   "metadata": {},
   "source": [
    "### White-box adversarials\n",
    "\n",
    "Of course, the above adversarials were only generated for the underlying CNN. A true test for any defense is benchmarking against a custom white-box attack that is specifically designed to circumvent it. We can do this easily with our own implementation:"
   ]
  },
  {
   "cell_type": "code",
   "execution_count": 14,
   "metadata": {},
   "outputs": [],
   "source": [
    "whitebox = WhiteboxAttack(ivap, model, x_calib, y_calib, batch_size=200, lr=.1)"
   ]
  },
  {
   "cell_type": "code",
   "execution_count": 15,
   "metadata": {},
   "outputs": [
    {
     "name": "stderr",
     "output_type": "stream",
     "text": [
      "adversarials: 195: 100%|██████████| 8/8 [01:14<00:00,  9.34s/it]\n"
     ]
    }
   ],
   "source": [
    "x_advs_wb = whitebox.attack(x_proper_test, y_proper_test, .2, its=100)"
   ]
  },
  {
   "cell_type": "markdown",
   "metadata": {},
   "source": [
    "Note that there are a number of hyperparameters that can be adjusted, such as the learning rate, number of iterations and the perturbation budget $\\eta$.\n",
    "\n",
    "Having generated the adversarials, we can consider the performance of the IVAP on them:"
   ]
  },
  {
   "cell_type": "code",
   "execution_count": 16,
   "metadata": {},
   "outputs": [
    {
     "name": "stdout",
     "output_type": "stream",
     "text": [
      "Success rate: 12.19%\n",
      "195/195 [==============================] - 0s 91us/step\n",
      "Model: 0.0\n",
      "IVAP @ 0.007007007007007007:\n",
      "\tACC: 0.0\n",
      "\tTPR: 0.0\n",
      "\tFPR: 1.0\n",
      "\tTRR: 0.1292517006802721\n",
      "\tFRR: 1.0\n",
      "\tREJ: 0.3435897435897436\n"
     ]
    }
   ],
   "source": [
    "dists = abs(x_advs_wb - x_proper_test).max(axis=(1, 2, 3))\n",
    "success = (dists > 0)\n",
    "print('Success rate: {}%'.format(round(100 * success.mean(), 2)))\n",
    "\n",
    "if success.mean() > 0:\n",
    "    metrics = ivap.evaluate(x_advs_wb[success], y_proper_test[success])\n",
    "    acc = model.evaluate(x_advs_wb[success], y_proper_test[success])[1]\n",
    "    print('Model: {}'.format(acc))\n",
    "    report(ivap.beta, metrics)"
   ]
  },
  {
   "cell_type": "markdown",
   "metadata": {},
   "source": [
    "We see that the attack has a low success rate: less than 13% of test samples were successfully corrupted into acceptable adversarials. However, on this limited set of samples, the IVAP fails completely with 0% accuracy, 0% TPR and 100% FPR. Plotting the distribution of perturbation magnitudes shows that the corrupted samples stay nicely within the budget:"
   ]
  },
  {
   "cell_type": "code",
   "execution_count": 19,
   "metadata": {
    "scrolled": true
   },
   "outputs": [
    {
     "data": {
      "image/png": "[encoded data removed]",
      "text/plain": [
       "<Figure size 432x288 with 1 Axes>"
      ]
     },
     "metadata": {
      "needs_background": "light"
     },
     "output_type": "display_data"
    }
   ],
   "source": [
    "plt.boxplot(dists[success])\n",
    "plt.show()"
   ]
  },
  {
   "cell_type": "markdown",
   "metadata": {},
   "source": [
    "Visualizing random selections of adversarial examples, we find that the perturbations are very noticeable:"
   ]
  },
  {
   "cell_type": "code",
   "execution_count": 20,
   "metadata": {},
   "outputs": [
    {
     "data": {
      "image/png": "[encoded data removed]",
      "text/plain": [
       "<Figure size 432x288 with 1 Axes>"
      ]
     },
     "metadata": {
      "needs_background": "light"
     },
     "output_type": "display_data"
    }
   ],
   "source": [
    "plt.imshow(x_advs_wb[success][np.random.randint(0, success.sum())])\n",
    "plt.axis('off')\n",
    "plt.show()"
   ]
  },
  {
   "cell_type": "markdown",
   "metadata": {},
   "source": [
    "Given the low success rate of the white-box attack and the fact that the adversarial perturbations are obvious, it can be argued that the IVAP defense is robust against adversarial attacks.\n",
    "\n",
    "Of course, this conclusion comes with a number of caveats:\n",
    "\n",
    "* We have only tested against our own white-box attack. It is entirely possible that other, more sophisticated attacks can be designed which are much more successful than this one.\n",
    "* There may exist different settings of hyperparameters for our attack that yields better adversarials. We experimented with a number of different learning rates and iteration counts without observing any real improvements, but this does not rule out that significantly better settings exist. Maybe using a different optimizer other than Adam, for example.\n",
    "\n",
    "For these reasons, we invite the machine learning community to scrutinize our method and develop better attacks against it."
   ]
  },
  {
   "cell_type": "code",
   "execution_count": null,
   "metadata": {},
   "outputs": [],
   "source": []
  }
 ],
 "metadata": {
  "kernelspec": {
   "display_name": "Python 3",
   "language": "python",
   "name": "python3"
  },
  "language_info": {
   "codemirror_mode": {
    "name": "ipython",
    "version": 3
   },
   "file_extension": ".py",
   "mimetype": "text/x-python",
   "name": "python",
   "nbconvert_exporter": "python",
   "pygments_lexer": "ipython3",
   "version": "3.5.2"
  }
 },
 "nbformat": 4,
 "nbformat_minor": 2
}
